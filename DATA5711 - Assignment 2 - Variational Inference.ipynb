{
 "cells": [
  {
   "cell_type": "markdown",
   "metadata": {},
   "source": [
    "# Variational inference assignment\n",
    "\n",
    "In this assignment, we are going to implement variational inference on a synthetic problem.\n",
    "\n",
    "\n",
    "## Software setup\n",
    "This assignment will be run in Python 3, and we might need to install a few Python packages.\n",
    "To avoid interference with other system packages, we basically have two alternatives.\n",
    "We can setup a virtual environment with tools like `virtualenv` or `anaconda`.\n",
    "Alternatively, we can use online Python interpreters, like Google Colab.\n",
    "\n",
    "If you decide to use [Google Colab](https://colab.research.google.com), you may follow these instructions.\n",
    "\n",
    "<b>Instructions:</b>\n",
    "1. Head to Google Colab at: https://colab.research.google.com\n",
    "2. If you do not have a Google account, you might have to create one.\n",
    "3. Login with your account\n",
    "4. At the Welcome screen, select the Upload tab and then upload this notebook file.\n",
    "5. If you miss the Welcome screen, at the Google Colab notebook view, you can go to:\n",
    "File -> Upload..."
   ]
  },
  {
   "cell_type": "code",
   "execution_count": 1,
   "metadata": {
    "pycharm": {
     "name": "#%%\n"
    }
   },
   "outputs": [],
   "source": [
    "import torch    # PyTorch: for linear algebra operations and automatic differentiation\n",
    "import torch.distributions as td    # PyTorch's probability distributions package\n",
    "import matplotlib.pyplot as plt     # Matplotlib's Python plotting package\n",
    "from tqdm.notebook import trange    # progress bars\n",
    "import numpy as np"
   ]
  },
  {
   "cell_type": "code",
   "execution_count": 2,
   "metadata": {
    "pycharm": {
     "name": "#%%\n"
    }
   },
   "outputs": [],
   "source": [
    "# Auxiliary function for plotting\n",
    "\n",
    "def make_grid(x_lb, x_ub, sx, y_lb=None, y_ub=None, sy=None, centred=True):\n",
    "    \"\"\"\n",
    "    Auxiliary function to create a regular 2D spatial grid to plot predictions\n",
    "    \"\"\"\n",
    "    if y_lb is None:\n",
    "        y_lb = x_lb\n",
    "    if y_ub is None:\n",
    "        y_ub = x_ub\n",
    "    if sy is None:\n",
    "        sy = sx\n",
    "\n",
    "    xs, ys = np.mgrid[x_lb:x_ub:sx, y_lb:y_ub:sy].astype('float')\n",
    "    if centred:\n",
    "        xs += 0.5 * sx\n",
    "        ys += 0.5 * sy\n",
    "    np_array = np.vstack((xs.ravel(), ys.ravel())).T\n",
    "\n",
    "    return torch.tensor(np_array, dtype=torch.get_default_dtype())"
   ]
  },
  {
   "cell_type": "markdown",
   "metadata": {
    "pycharm": {
     "name": "#%% md\n"
    }
   },
   "source": [
    "## Problem setting\n",
    "Given a log-likelihood and a log-prior probability density, your task is to estimate a multivariate Gaussian\n",
    "approximation to the posterior via variational inference.\n",
    "The log-likelihood for this assignment is Rosenbrock's banana shape function on a 2-dimensional space."
   ]
  },
  {
   "cell_type": "code",
   "execution_count": 3,
   "metadata": {
    "pycharm": {
     "name": "#%%\n"
    }
   },
   "outputs": [],
   "source": [
    "def log_likelihood(x: torch.Tensor):\n",
    "    \"\"\"\n",
    "    Log-likelihood function\n",
    "\n",
    "    :param x: a S-by-2 matrix, where S represents the number of samples\n",
    "    :return: a S-array with the log-likelihood value for each sample\n",
    "    \"\"\"\n",
    "    assert len(x.shape) == 2, \"x must be a 2D array\"\n",
    "    assert x.shape[1] == 2, \"x must have 2 columns, one for each coordinate\"\n",
    "    return -((x[:,0]**2 - x[:,1])**2 + (x[:,0] - 1)**2)"
   ]
  },
  {
   "cell_type": "code",
   "execution_count": 4,
   "metadata": {
    "pycharm": {
     "name": "#%%\n"
    }
   },
   "outputs": [],
   "source": [
    "# Plotting grid\n",
    "\n",
    "x_lb = -10\n",
    "x_ub = 10\n",
    "y_lb = -10\n",
    "y_ub = 15\n",
    "\n",
    "spacing = 0.05\n",
    "\n",
    "vis_x = make_grid(x_lb, x_ub, spacing, y_lb, y_ub, spacing).cpu()\n",
    "nx = int((x_ub-x_lb)/spacing)\n",
    "ny = int((y_ub-y_lb)/spacing)"
   ]
  },
  {
   "cell_type": "code",
   "execution_count": 5,
   "metadata": {
    "pycharm": {
     "name": "#%%\n"
    }
   },
   "outputs": [],
   "source": [
    "vis_log_like = log_likelihood(vis_x)"
   ]
  },
  {
   "cell_type": "code",
   "execution_count": 6,
   "metadata": {
    "pycharm": {
     "name": "#%%\n"
    }
   },
   "outputs": [
    {
     "data": {
      "text/plain": [
       "Text(0.5, 1.0, 'Log-likelihood')"
      ]
     },
     "execution_count": 6,
     "metadata": {},
     "output_type": "execute_result"
    },
    {
     "data": {
      "image/png": "[encoded data removed]",
      "text/plain": [
       "<Figure size 432x288 with 2 Axes>"
      ]
     },
     "metadata": {
      "needs_background": "light"
     },
     "output_type": "display_data"
    }
   ],
   "source": [
    "extent=[x_lb, x_ub, y_lb, y_ub]\n",
    "plt.imshow(vis_log_like.reshape(nx, ny).t(), origin='lower', vmax=0, vmin=-100, extent=extent)\n",
    "plt.colorbar()\n",
    "plt.title(\"Log-likelihood\")"
   ]
  },
  {
   "cell_type": "markdown",
   "metadata": {
    "pycharm": {
     "name": "#%% md\n"
    }
   },
   "source": [
    "<b>Prior:</b> As a prior, we will use a normal distribution."
   ]
  },
  {
   "cell_type": "code",
   "execution_count": 7,
   "metadata": {
    "pycharm": {
     "name": "#%%\n"
    }
   },
   "outputs": [],
   "source": [
    "def log_prior(x):\n",
    "    \"\"\"\n",
    "    Log prior probability density\n",
    "\n",
    "    :param x: a S-by-2 matrix, where S represents the number of samples\n",
    "    :return: a S-array with the log-probability density for each sample\n",
    "    \"\"\"\n",
    "    assert len(x.shape) == 2, \"x must be a 2D array\"\n",
    "    assert x.shape[1] == 2, \"x must have 2 columns, one for each coordinate\"\n",
    "    return td.Normal(0, 4).log_prob(x).sum(dim=1)"
   ]
  },
  {
   "cell_type": "code",
   "execution_count": 8,
   "metadata": {
    "pycharm": {
     "name": "#%%\n"
    }
   },
   "outputs": [
    {
     "data": {
      "text/plain": [
       "Text(0.5, 1.0, 'Unnormalised log-posterior probability density')"
      ]
     },
     "execution_count": 8,
     "metadata": {},
     "output_type": "execute_result"
    },
    {
     "data": {
      "image/png": "[encoded data removed]",
      "text/plain": [
       "<Figure size 432x288 with 2 Axes>"
      ]
     },
     "metadata": {
      "needs_background": "light"
     },
     "output_type": "display_data"
    }
   ],
   "source": [
    "vis_log_prior = log_prior(vis_x)\n",
    "\n",
    "plt.imshow(vis_log_like.reshape(nx, ny).t()+vis_log_prior.reshape(nx, ny).t(), origin='lower', vmax=0, vmin=-30, extent=extent)\n",
    "plt.colorbar()\n",
    "plt.title(\"Unnormalised log-posterior probability density\")"
   ]
  },
  {
   "cell_type": "code",
   "execution_count": 9,
   "metadata": {},
   "outputs": [],
   "source": [
    "vis_Log_posterior = vis_log_like.reshape(nx, ny).t()+vis_log_prior.reshape(nx, ny).t()"
   ]
  },
  {
   "cell_type": "code",
   "execution_count": 10,
   "metadata": {},
   "outputs": [
    {
     "data": {
      "text/plain": [
       "(tensor(-4.6650), tensor(-12116.1934))"
      ]
     },
     "execution_count": 10,
     "metadata": {},
     "output_type": "execute_result"
    }
   ],
   "source": [
    "vis_Log_posterior.max(), vis_Log_posterior.min()"
   ]
  },
  {
   "cell_type": "markdown",
   "metadata": {
    "pycharm": {
     "name": "#%% md\n"
    }
   },
   "source": [
    "<b>Task:</b> The task now is to implement and run variational inference using a multivariate normal as the variational\n",
    " distribution. The mean and covariance matrix of the variational distribution are to be optimised using PyTorch.\n",
    " You are allowed to reuse code from the tutorials.\n",
    " However, note that this is a 2-dimensional, instead of the unidimensional toy problem we had.\n",
    "\n",
    "<b>Hint:</b> PyTorch provides `td.MultivariateNormal` and `td.Normal` as implementations of multivariate and univariate,\n",
    "respectively, Gaussian distributions.\n",
    "A parameter to give attention to is the covariance matrix $\\Sigma$, which needs to be positive-definite.\n",
    "There are a few ways to parameterise it with varying degrees of freedom.\n",
    "To avoid further complications, for this assignment, you are allowed to simply use a single variational parameter\n",
    "$c \\in \\mathbb{R}$ to parameterise the covariance matrix as:\n",
    "\n",
    "\\begin{equation*}\n",
    "\\Sigma := \\exp(c)\\mathbf{I}\\,,\n",
    "\\end{equation*}\n",
    "\n",
    "where the exponentiation ensures the matrix is positive-definite."
   ]
  },
  {
   "cell_type": "code",
   "execution_count": 11,
   "metadata": {
    "pycharm": {
     "name": "#%%\n"
    },
    "scrolled": true
   },
   "outputs": [],
   "source": [
    "#TODO: Implement ELBO computation and training loop\n",
    "\n",
    "#v_dist = #TODO: your final estimate for the variational distribution"
   ]
  },
  {
   "cell_type": "markdown",
   "metadata": {
    "pycharm": {
     "name": "#%% md\n"
    }
   },
   "source": [
    "After estimating the variational distribution as `v_dist`,\n",
    "run the following cell to compare the approximation with the unnormalised posterior."
   ]
  },
  {
   "cell_type": "code",
   "execution_count": 12,
   "metadata": {
    "pycharm": {
     "name": "#%%\n"
    }
   },
   "outputs": [],
   "source": [
    "# plt.figure(figsize=(12,4))\n",
    "# with torch.no_grad():\n",
    "#     vis_variational = v_dist.log_prob(vis_x)\n",
    "# plt.subplot(121)\n",
    "# plt.imshow(vis_log_like.reshape(nx, ny).t()+vis_log_prior.reshape(nx, ny).t(), origin='lower',\n",
    "#             vmax=0, vmin=-20, extent=extent)\n",
    "# plt.colorbar()\n",
    "# plt.title(\"Unnormalised log-posterior\")\n",
    "\n",
    "# plt.subplot(122)\n",
    "# plt.imshow(vis_variational.reshape(nx, ny).t(), origin='lower', vmax=0, vmin=-20,\n",
    "#             extent=extent)\n",
    "# plt.colorbar()\n",
    "# plt.title(\"Variational approximation\")"
   ]
  },
  {
   "cell_type": "markdown",
   "metadata": {},
   "source": [
    "# Other Solution"
   ]
  },
  {
   "cell_type": "code",
   "execution_count": 50,
   "metadata": {
    "scrolled": true
   },
   "outputs": [
    {
     "data": {
      "text/plain": [
       "tensor([[-0.1987,  0.2241],\n",
       "        [-1.0348,  0.4391]])"
      ]
     },
     "execution_count": 50,
     "metadata": {},
     "output_type": "execute_result"
    }
   ],
   "source": [
    "torch.randn([2,2])"
   ]
  },
  {
   "cell_type": "code",
   "execution_count": 51,
   "metadata": {},
   "outputs": [],
   "source": [
    "q_mean = torch.randn([2])\n",
    "q_sd = torch.diag(torch.rand([2]))\n",
    "q_dist = td.MultivariateNormal(q_mean, q_sd)"
   ]
  },
  {
   "cell_type": "code",
   "execution_count": 63,
   "metadata": {},
   "outputs": [
    {
     "data": {
      "text/plain": [
       "Text(0.5, 1.0, 'Variational approximation')"
      ]
     },
     "execution_count": 63,
     "metadata": {},
     "output_type": "execute_result"
    },
    {
     "data": {
      "image/png": "[encoded data removed]",
      "text/plain": [
       "<Figure size 864x288 with 2 Axes>"
      ]
     },
     "metadata": {
      "needs_background": "light"
     },
     "output_type": "display_data"
    }
   ],
   "source": [
    "plt.figure(figsize=(12,4))\n",
    "with torch.no_grad():\n",
    "    vis_variational = q_dist.log_prob(vis_x)\n",
    "\n",
    "plt.subplot(122)\n",
    "plt.imshow(vis_variational.reshape(nx, ny).t(), origin='lower', vmax=0, vmin=-20,\n",
    "            extent=extent)\n",
    "plt.colorbar()\n",
    "plt.title(\"Variational approximation\")"
   ]
  },
  {
   "cell_type": "code",
   "execution_count": 66,
   "metadata": {},
   "outputs": [],
   "source": [
    "def kl_divergence(samples,\n",
    "                  p_distribution,\n",
    "                  q_distribution):\n",
    "    \"\"\"\n",
    "    :param samples: samples from the variational distribtuion\n",
    "    :param p_distribution: probability distribution object representing the true posterior\n",
    "    :param q_distribution: variational distribution object\n",
    "    :return: an empirical approximation of the KL divergence between the variational distribution and the true posterior\n",
    "    \"\"\"\n",
    "    return (q_distribution.log_prob(samples) - p_distribution(samples)).mean()"
   ]
  },
  {
   "cell_type": "code",
   "execution_count": 70,
   "metadata": {},
   "outputs": [],
   "source": [
    "zzz = torch.diag(torch.rand([2]))"
   ]
  },
  {
   "cell_type": "code",
   "execution_count": 83,
   "metadata": {},
   "outputs": [
    {
     "data": {
      "application/vnd.jupyter.widget-view+json": {
       "model_id": "2c27e5cd1afe458288476d09d9c81310",
       "version_major": 2,
       "version_minor": 0
      },
      "text/plain": [
       "HBox(children=(HTML(value=''), FloatProgress(value=0.0, max=1000.0), HTML(value='')))"
      ]
     },
     "metadata": {},
     "output_type": "display_data"
    },
    {
     "name": "stdout",
     "output_type": "stream",
     "text": [
      "\n"
     ]
    }
   ],
   "source": [
    "q_mean = torch.randn([2], requires_grad=True)\n",
    "q_sd = torch.diag(torch.rand([2])).requires_grad_(True)\n",
    "\n",
    "n_iterations = 1000   # number of iterations to run gradient descent for\n",
    "plot_every = 10\n",
    "opt = torch.optim.Adam([q_mean, q_sd], lr=1e-2) # optimisation algorithm\n",
    "n_samples = 2000     # number of samples of the variational distribution to compute the KL divergence with\n",
    "\n",
    "losses = torch.zeros(n_iterations)\n",
    "\n",
    "pbar = trange(n_iterations)\n",
    "for t in pbar:\n",
    "    opt.zero_grad()\n",
    "    q_dist = td.MultivariateNormal(q_mean, q_sd)\n",
    "    q_samples = q_dist.rsample([n_samples]) # the rsample() method applies the reparameterisation trick,\n",
    "                                            # so that we can differentiate through the samples\n",
    "#     if t % plot_every == 0:\n",
    "#         with torch.no_grad():\n",
    "#             plt.plot(test_x, true_p, 'k-', label='Target')\n",
    "#             plt.plot(test_x, q_dist.log_prob(test_x).exp(), 'r-', label='Variational')\n",
    "#             plt.title(f\"Iteration t={t}\")\n",
    "#             plt.legend()\n",
    "#             plt.ylim(0, 2)\n",
    "#             plt.show()\n",
    "#             plt.pause(0.1)  # for visualisation purposes\n",
    "    loss = kl_divergence(q_samples, log_prior, q_dist) # KL divergence empirical approximation\n",
    "    loss.backward()\n",
    "    opt.step()\n",
    "    losses[t] = loss.item()\n",
    "    pbar.set_postfix(loss=loss.item())"
   ]
  },
  {
   "cell_type": "code",
   "execution_count": 84,
   "metadata": {},
   "outputs": [
    {
     "data": {
      "text/plain": [
       "Text(0.5, 1.0, 'Variational approximation')"
      ]
     },
     "execution_count": 84,
     "metadata": {},
     "output_type": "execute_result"
    },
    {
     "data": {
      "image/png": "[encoded data removed]",
      "text/plain": [
       "<Figure size 864x288 with 2 Axes>"
      ]
     },
     "metadata": {
      "needs_background": "light"
     },
     "output_type": "display_data"
    }
   ],
   "source": [
    "plt.figure(figsize=(12,4))\n",
    "with torch.no_grad():\n",
    "    vis_variational = q_dist.log_prob(vis_x)\n",
    "\n",
    "plt.subplot(122)\n",
    "plt.imshow(vis_variational.reshape(nx, ny).t(), origin='lower', vmax=0, vmin=-20,\n",
    "            extent=extent)\n",
    "plt.colorbar()\n",
    "plt.title(\"Variational approximation\")"
   ]
  },
  {
   "cell_type": "markdown",
   "metadata": {
    "pycharm": {
     "name": "#%%\n"
    }
   },
   "source": [
    "# GPytorch Solution"
   ]
  },
  {
   "cell_type": "markdown",
   "metadata": {},
   "source": [
    "## checking variables"
   ]
  },
  {
   "cell_type": "code",
   "execution_count": 13,
   "metadata": {
    "scrolled": true
   },
   "outputs": [
    {
     "data": {
      "text/plain": [
       "torch.Size([200000, 2])"
      ]
     },
     "execution_count": 13,
     "metadata": {},
     "output_type": "execute_result"
    }
   ],
   "source": [
    "vis_x.shape"
   ]
  },
  {
   "cell_type": "code",
   "execution_count": 14,
   "metadata": {
    "scrolled": true
   },
   "outputs": [
    {
     "data": {
      "text/plain": [
       "(400, 500)"
      ]
     },
     "execution_count": 14,
     "metadata": {},
     "output_type": "execute_result"
    }
   ],
   "source": [
    "nx, ny"
   ]
  },
  {
   "cell_type": "code",
   "execution_count": 15,
   "metadata": {
    "scrolled": true
   },
   "outputs": [
    {
     "data": {
      "text/plain": [
       "torch.Size([200000])"
      ]
     },
     "execution_count": 15,
     "metadata": {},
     "output_type": "execute_result"
    }
   ],
   "source": [
    "vis_log_prior.shape"
   ]
  },
  {
   "cell_type": "markdown",
   "metadata": {},
   "source": [
    "## model"
   ]
  },
  {
   "cell_type": "code",
   "execution_count": 16,
   "metadata": {},
   "outputs": [],
   "source": [
    "from torch.utils.data import TensorDataset, DataLoader\n",
    "\n",
    "train_x = vis_x[:10000].contiguous()\n",
    "train_y = vis_log_prior[:10000].contiguous()\n",
    "n_batch = 100    # number of data points in each iteration's mini-batch\n",
    "train_dataset = TensorDataset(train_x, train_y)\n",
    "train_loader = DataLoader(train_dataset, batch_size=n_batch, shuffle=True)"
   ]
  },
  {
   "cell_type": "code",
   "execution_count": 17,
   "metadata": {},
   "outputs": [],
   "source": [
    "import gpytorch"
   ]
  },
  {
   "cell_type": "code",
   "execution_count": 18,
   "metadata": {},
   "outputs": [],
   "source": [
    "from gpytorch.models import ApproximateGP\n",
    "from gpytorch.variational import CholeskyVariationalDistribution\n",
    "from gpytorch.variational import VariationalStrategy\n",
    "\n",
    "class GPModel(ApproximateGP):\n",
    "    def __init__(self, inducing_points):\n",
    "        variational_distribution = CholeskyVariationalDistribution(inducing_points.size(0))\n",
    "        variational_strategy = VariationalStrategy(self, inducing_points, variational_distribution,\n",
    "                                                   learn_inducing_locations=True)\n",
    "        super(GPModel, self).__init__(variational_strategy)\n",
    "        self.mean_module = gpytorch.means.ConstantMean()\n",
    "        self.covar_module = gpytorch.kernels.ScaleKernel(gpytorch.kernels.MaternKernel(nu=1.5))\n",
    "\n",
    "    def forward(self, x):\n",
    "        mean_x = self.mean_module(x)\n",
    "        covar_x = self.covar_module(x)\n",
    "        return gpytorch.distributions.MultivariateNormal(mean_x, covar_x)"
   ]
  },
  {
   "cell_type": "code",
   "execution_count": 19,
   "metadata": {},
   "outputs": [],
   "source": [
    "model = GPModel(inducing_points=train_x[:1000])\n",
    "likelihood = gpytorch.likelihoods.GaussianLikelihood()"
   ]
  },
  {
   "cell_type": "markdown",
   "metadata": {},
   "source": [
    "## train"
   ]
  },
  {
   "cell_type": "code",
   "execution_count": 20,
   "metadata": {},
   "outputs": [
    {
     "data": {
      "application/vnd.jupyter.widget-view+json": {
       "model_id": "ba387b1444ea4b6fb8e8401d11d1fa65",
       "version_major": 2,
       "version_minor": 0
      },
      "text/plain": [
       "HBox(children=(HTML(value='Epoch'), FloatProgress(value=0.0, max=10.0), HTML(value='')))"
      ]
     },
     "metadata": {},
     "output_type": "display_data"
    },
    {
     "data": {
      "application/vnd.jupyter.widget-view+json": {
       "model_id": "",
       "version_major": 2,
       "version_minor": 0
      },
      "text/plain": [
       "HBox(children=(HTML(value='Minibatch'), FloatProgress(value=0.0), HTML(value='')))"
      ]
     },
     "metadata": {},
     "output_type": "display_data"
    },
    {
     "data": {
      "application/vnd.jupyter.widget-view+json": {
       "model_id": "",
       "version_major": 2,
       "version_minor": 0
      },
      "text/plain": [
       "HBox(children=(HTML(value='Minibatch'), FloatProgress(value=0.0), HTML(value='')))"
      ]
     },
     "metadata": {},
     "output_type": "display_data"
    },
    {
     "data": {
      "application/vnd.jupyter.widget-view+json": {
       "model_id": "",
       "version_major": 2,
       "version_minor": 0
      },
      "text/plain": [
       "HBox(children=(HTML(value='Minibatch'), FloatProgress(value=0.0), HTML(value='')))"
      ]
     },
     "metadata": {},
     "output_type": "display_data"
    },
    {
     "data": {
      "application/vnd.jupyter.widget-view+json": {
       "model_id": "",
       "version_major": 2,
       "version_minor": 0
      },
      "text/plain": [
       "HBox(children=(HTML(value='Minibatch'), FloatProgress(value=0.0), HTML(value='')))"
      ]
     },
     "metadata": {},
     "output_type": "display_data"
    },
    {
     "data": {
      "application/vnd.jupyter.widget-view+json": {
       "model_id": "",
       "version_major": 2,
       "version_minor": 0
      },
      "text/plain": [
       "HBox(children=(HTML(value='Minibatch'), FloatProgress(value=0.0), HTML(value='')))"
      ]
     },
     "metadata": {},
     "output_type": "display_data"
    },
    {
     "data": {
      "application/vnd.jupyter.widget-view+json": {
       "model_id": "",
       "version_major": 2,
       "version_minor": 0
      },
      "text/plain": [
       "HBox(children=(HTML(value='Minibatch'), FloatProgress(value=0.0), HTML(value='')))"
      ]
     },
     "metadata": {},
     "output_type": "display_data"
    },
    {
     "data": {
      "application/vnd.jupyter.widget-view+json": {
       "model_id": "",
       "version_major": 2,
       "version_minor": 0
      },
      "text/plain": [
       "HBox(children=(HTML(value='Minibatch'), FloatProgress(value=0.0), HTML(value='')))"
      ]
     },
     "metadata": {},
     "output_type": "display_data"
    },
    {
     "data": {
      "application/vnd.jupyter.widget-view+json": {
       "model_id": "",
       "version_major": 2,
       "version_minor": 0
      },
      "text/plain": [
       "HBox(children=(HTML(value='Minibatch'), FloatProgress(value=0.0), HTML(value='')))"
      ]
     },
     "metadata": {},
     "output_type": "display_data"
    },
    {
     "data": {
      "application/vnd.jupyter.widget-view+json": {
       "model_id": "",
       "version_major": 2,
       "version_minor": 0
      },
      "text/plain": [
       "HBox(children=(HTML(value='Minibatch'), FloatProgress(value=0.0), HTML(value='')))"
      ]
     },
     "metadata": {},
     "output_type": "display_data"
    },
    {
     "data": {
      "application/vnd.jupyter.widget-view+json": {
       "model_id": "",
       "version_major": 2,
       "version_minor": 0
      },
      "text/plain": [
       "HBox(children=(HTML(value='Minibatch'), FloatProgress(value=0.0), HTML(value='')))"
      ]
     },
     "metadata": {},
     "output_type": "display_data"
    },
    {
     "name": "stdout",
     "output_type": "stream",
     "text": [
      "\n"
     ]
    }
   ],
   "source": [
    "from tqdm.notebook import tqdm\n",
    "\n",
    "num_epochs = 10         # number of training epochs\n",
    "                        # within each epoch we run a few iterations of stochastic optimisation\n",
    "\n",
    "model.train()           # set the GP model and its Gaussian likelihod in training mode to optimise hyper-parameters\n",
    "likelihood.train()\n",
    "\n",
    "optimizer = torch.optim.Adam([\n",
    "    {'params': model.parameters()},\n",
    "    {'params': likelihood.parameters()},\n",
    "], lr=0.01)\n",
    "\n",
    "# Our loss object. We're using the VariationalELBO\n",
    "mll = gpytorch.mlls.VariationalELBO(likelihood, model, num_data=train_y.size(0))\n",
    "\n",
    "\n",
    "epochs_iter = tqdm(range(num_epochs), desc=\"Epoch\")\n",
    "for i in epochs_iter:\n",
    "    # Within each iteration, we will go over each minibatch of data\n",
    "    minibatch_iter = tqdm(train_loader, desc=\"Minibatch\", leave=False)\n",
    "    for x_batch, y_batch in minibatch_iter:\n",
    "        optimizer.zero_grad()\n",
    "        output = model(x_batch)\n",
    "        loss = -mll(output, y_batch)\n",
    "        minibatch_iter.set_postfix(loss=loss.item())\n",
    "        loss.backward()\n",
    "        optimizer.step()"
   ]
  },
  {
   "cell_type": "markdown",
   "metadata": {},
   "source": [
    "## eval and predict"
   ]
  },
  {
   "cell_type": "code",
   "execution_count": 21,
   "metadata": {
    "scrolled": true
   },
   "outputs": [
    {
     "data": {
      "text/plain": [
       "GaussianLikelihood(\n",
       "  (noise_covar): HomoskedasticNoise(\n",
       "    (raw_noise_constraint): GreaterThan(1.000E-04)\n",
       "  )\n",
       ")"
      ]
     },
     "execution_count": 21,
     "metadata": {},
     "output_type": "execute_result"
    }
   ],
   "source": [
    "model.eval()\n",
    "likelihood.eval()"
   ]
  },
  {
   "cell_type": "code",
   "execution_count": 35,
   "metadata": {},
   "outputs": [
    {
     "data": {
      "text/plain": [
       "tensor([[-9.9750, -9.9750]])"
      ]
     },
     "execution_count": 35,
     "metadata": {},
     "output_type": "execute_result"
    }
   ],
   "source": [
    "vis_x[0:1]"
   ]
  },
  {
   "cell_type": "code",
   "execution_count": 36,
   "metadata": {},
   "outputs": [],
   "source": [
    "with torch.no_grad():\n",
    "    v_dist = model(vis_x[0:1])"
   ]
  },
  {
   "cell_type": "code",
   "execution_count": 37,
   "metadata": {
    "scrolled": true
   },
   "outputs": [
    {
     "data": {
      "text/plain": [
       "MultivariateNormal(loc: tensor([-9.8268]))"
      ]
     },
     "execution_count": 37,
     "metadata": {},
     "output_type": "execute_result"
    }
   ],
   "source": [
    "v_dist"
   ]
  },
  {
   "cell_type": "code",
   "execution_count": 38,
   "metadata": {},
   "outputs": [
    {
     "ename": "RuntimeError",
     "evalue": "LazyTensor (size=torch.Size([1, 1])) cannot be multiplied with right-hand-side Tensor (size=torch.Size([2, 1])).",
     "output_type": "error",
     "traceback": [
      "\u001b[1;31m---------------------------------------------------------------------------\u001b[0m",
      "\u001b[1;31mRuntimeError\u001b[0m                              Traceback (most recent call last)",
      "\u001b[1;32m<ipython-input-38-d383c56a3980>\u001b[0m in \u001b[0;36m<module>\u001b[1;34m\u001b[0m\n\u001b[1;32m----> 1\u001b[1;33m \u001b[0mv_dist\u001b[0m\u001b[1;33m.\u001b[0m\u001b[0mlog_prob\u001b[0m\u001b[1;33m(\u001b[0m\u001b[0mvis_x\u001b[0m\u001b[1;33m[\u001b[0m\u001b[1;36m0\u001b[0m\u001b[1;33m]\u001b[0m\u001b[1;33m)\u001b[0m\u001b[1;33m\u001b[0m\u001b[1;33m\u001b[0m\u001b[0m\n\u001b[0m",
      "\u001b[1;32m~\\miniconda3\\envs\\misc\\lib\\site-packages\\gpytorch\\distributions\\multivariate_normal.py\u001b[0m in \u001b[0;36mlog_prob\u001b[1;34m(self, value)\u001b[0m\n\u001b[0;32m    167\u001b[0m         \u001b[1;31m# Get log determininant and first part of quadratic form\u001b[0m\u001b[1;33m\u001b[0m\u001b[1;33m\u001b[0m\u001b[1;33m\u001b[0m\u001b[0m\n\u001b[0;32m    168\u001b[0m         \u001b[0mcovar\u001b[0m \u001b[1;33m=\u001b[0m \u001b[0mcovar\u001b[0m\u001b[1;33m.\u001b[0m\u001b[0mevaluate_kernel\u001b[0m\u001b[1;33m(\u001b[0m\u001b[1;33m)\u001b[0m\u001b[1;33m\u001b[0m\u001b[1;33m\u001b[0m\u001b[0m\n\u001b[1;32m--> 169\u001b[1;33m         \u001b[0minv_quad\u001b[0m\u001b[1;33m,\u001b[0m \u001b[0mlogdet\u001b[0m \u001b[1;33m=\u001b[0m \u001b[0mcovar\u001b[0m\u001b[1;33m.\u001b[0m\u001b[0minv_quad_logdet\u001b[0m\u001b[1;33m(\u001b[0m\u001b[0minv_quad_rhs\u001b[0m\u001b[1;33m=\u001b[0m\u001b[0mdiff\u001b[0m\u001b[1;33m.\u001b[0m\u001b[0munsqueeze\u001b[0m\u001b[1;33m(\u001b[0m\u001b[1;33m-\u001b[0m\u001b[1;36m1\u001b[0m\u001b[1;33m)\u001b[0m\u001b[1;33m,\u001b[0m \u001b[0mlogdet\u001b[0m\u001b[1;33m=\u001b[0m\u001b[1;32mTrue\u001b[0m\u001b[1;33m)\u001b[0m\u001b[1;33m\u001b[0m\u001b[1;33m\u001b[0m\u001b[0m\n\u001b[0m\u001b[0;32m    170\u001b[0m \u001b[1;33m\u001b[0m\u001b[0m\n\u001b[0;32m    171\u001b[0m         \u001b[0mres\u001b[0m \u001b[1;33m=\u001b[0m \u001b[1;33m-\u001b[0m\u001b[1;36m0.5\u001b[0m \u001b[1;33m*\u001b[0m \u001b[0msum\u001b[0m\u001b[1;33m(\u001b[0m\u001b[1;33m[\u001b[0m\u001b[0minv_quad\u001b[0m\u001b[1;33m,\u001b[0m \u001b[0mlogdet\u001b[0m\u001b[1;33m,\u001b[0m \u001b[0mdiff\u001b[0m\u001b[1;33m.\u001b[0m\u001b[0msize\u001b[0m\u001b[1;33m(\u001b[0m\u001b[1;33m-\u001b[0m\u001b[1;36m1\u001b[0m\u001b[1;33m)\u001b[0m \u001b[1;33m*\u001b[0m \u001b[0mmath\u001b[0m\u001b[1;33m.\u001b[0m\u001b[0mlog\u001b[0m\u001b[1;33m(\u001b[0m\u001b[1;36m2\u001b[0m \u001b[1;33m*\u001b[0m \u001b[0mmath\u001b[0m\u001b[1;33m.\u001b[0m\u001b[0mpi\u001b[0m\u001b[1;33m)\u001b[0m\u001b[1;33m]\u001b[0m\u001b[1;33m)\u001b[0m\u001b[1;33m\u001b[0m\u001b[1;33m\u001b[0m\u001b[0m\n",
      "\u001b[1;32m~\\miniconda3\\envs\\misc\\lib\\site-packages\\gpytorch\\lazy\\lazy_tensor.py\u001b[0m in \u001b[0;36minv_quad_logdet\u001b[1;34m(self, inv_quad_rhs, logdet, reduce_inv_quad)\u001b[0m\n\u001b[0;32m   1029\u001b[0m \u001b[1;33m\u001b[0m\u001b[0m\n\u001b[0;32m   1030\u001b[0m             \u001b[0mcholesky\u001b[0m \u001b[1;33m=\u001b[0m \u001b[0mCholLazyTensor\u001b[0m\u001b[1;33m(\u001b[0m\u001b[0mTriangularLazyTensor\u001b[0m\u001b[1;33m(\u001b[0m\u001b[0mself\u001b[0m\u001b[1;33m.\u001b[0m\u001b[0mcholesky\u001b[0m\u001b[1;33m(\u001b[0m\u001b[1;33m)\u001b[0m\u001b[1;33m)\u001b[0m\u001b[1;33m)\u001b[0m\u001b[1;33m\u001b[0m\u001b[1;33m\u001b[0m\u001b[0m\n\u001b[1;32m-> 1031\u001b[1;33m             \u001b[1;32mreturn\u001b[0m \u001b[0mcholesky\u001b[0m\u001b[1;33m.\u001b[0m\u001b[0minv_quad_logdet\u001b[0m\u001b[1;33m(\u001b[0m\u001b[0minv_quad_rhs\u001b[0m\u001b[1;33m=\u001b[0m\u001b[0minv_quad_rhs\u001b[0m\u001b[1;33m,\u001b[0m \u001b[0mlogdet\u001b[0m\u001b[1;33m=\u001b[0m\u001b[0mlogdet\u001b[0m\u001b[1;33m,\u001b[0m \u001b[0mreduce_inv_quad\u001b[0m\u001b[1;33m=\u001b[0m\u001b[0mreduce_inv_quad\u001b[0m\u001b[1;33m)\u001b[0m\u001b[1;33m\u001b[0m\u001b[1;33m\u001b[0m\u001b[0m\n\u001b[0m\u001b[0;32m   1032\u001b[0m \u001b[1;33m\u001b[0m\u001b[0m\n\u001b[0;32m   1033\u001b[0m         \u001b[1;31m# Default: use modified batch conjugate gradients to compute these terms\u001b[0m\u001b[1;33m\u001b[0m\u001b[1;33m\u001b[0m\u001b[1;33m\u001b[0m\u001b[0m\n",
      "\u001b[1;32m~\\miniconda3\\envs\\misc\\lib\\site-packages\\gpytorch\\lazy\\chol_lazy_tensor.py\u001b[0m in \u001b[0;36minv_quad_logdet\u001b[1;34m(self, inv_quad_rhs, logdet, reduce_inv_quad)\u001b[0m\n\u001b[0;32m     92\u001b[0m                 raise RuntimeError(\n\u001b[0;32m     93\u001b[0m                     \"LazyTensor (size={}) cannot be multiplied with right-hand-side Tensor (size={}).\".format(\n\u001b[1;32m---> 94\u001b[1;33m                         \u001b[0mself\u001b[0m\u001b[1;33m.\u001b[0m\u001b[0mshape\u001b[0m\u001b[1;33m,\u001b[0m \u001b[0minv_quad_rhs\u001b[0m\u001b[1;33m.\u001b[0m\u001b[0mshape\u001b[0m\u001b[1;33m\u001b[0m\u001b[1;33m\u001b[0m\u001b[0m\n\u001b[0m\u001b[0;32m     95\u001b[0m                     )\n\u001b[0;32m     96\u001b[0m                 )\n",
      "\u001b[1;31mRuntimeError\u001b[0m: LazyTensor (size=torch.Size([1, 1])) cannot be multiplied with right-hand-side Tensor (size=torch.Size([2, 1]))."
     ]
    }
   ],
   "source": [
    "v_dist.log_prob(vis_x[0])"
   ]
  },
  {
   "cell_type": "code",
   "execution_count": 28,
   "metadata": {},
   "outputs": [
    {
     "ename": "RuntimeError",
     "evalue": "The size of tensor a (2) must match the size of tensor b (10000) at non-singleton dimension 1",
     "output_type": "error",
     "traceback": [
      "\u001b[1;31m---------------------------------------------------------------------------\u001b[0m",
      "\u001b[1;31mRuntimeError\u001b[0m                              Traceback (most recent call last)",
      "\u001b[1;32m<ipython-input-28-86d563dd7a18>\u001b[0m in \u001b[0;36m<module>\u001b[1;34m\u001b[0m\n\u001b[0;32m      1\u001b[0m \u001b[0mplt\u001b[0m\u001b[1;33m.\u001b[0m\u001b[0mfigure\u001b[0m\u001b[1;33m(\u001b[0m\u001b[0mfigsize\u001b[0m\u001b[1;33m=\u001b[0m\u001b[1;33m(\u001b[0m\u001b[1;36m12\u001b[0m\u001b[1;33m,\u001b[0m\u001b[1;36m4\u001b[0m\u001b[1;33m)\u001b[0m\u001b[1;33m)\u001b[0m\u001b[1;33m\u001b[0m\u001b[1;33m\u001b[0m\u001b[0m\n\u001b[0;32m      2\u001b[0m \u001b[1;32mwith\u001b[0m \u001b[0mtorch\u001b[0m\u001b[1;33m.\u001b[0m\u001b[0mno_grad\u001b[0m\u001b[1;33m(\u001b[0m\u001b[1;33m)\u001b[0m\u001b[1;33m:\u001b[0m\u001b[1;33m\u001b[0m\u001b[1;33m\u001b[0m\u001b[0m\n\u001b[1;32m----> 3\u001b[1;33m     \u001b[0mvis_variational\u001b[0m \u001b[1;33m=\u001b[0m \u001b[0mv_dist\u001b[0m\u001b[1;33m.\u001b[0m\u001b[0mlog_prob\u001b[0m\u001b[1;33m(\u001b[0m\u001b[0mvis_x\u001b[0m\u001b[1;33m)\u001b[0m\u001b[1;33m\u001b[0m\u001b[1;33m\u001b[0m\u001b[0m\n\u001b[0m\u001b[0;32m      4\u001b[0m \u001b[0mplt\u001b[0m\u001b[1;33m.\u001b[0m\u001b[0msubplot\u001b[0m\u001b[1;33m(\u001b[0m\u001b[1;36m121\u001b[0m\u001b[1;33m)\u001b[0m\u001b[1;33m\u001b[0m\u001b[1;33m\u001b[0m\u001b[0m\n\u001b[0;32m      5\u001b[0m plt.imshow(vis_log_like.reshape(nx, ny).t()+vis_log_prior.reshape(nx, ny).t(), origin='lower',\n",
      "\u001b[1;32m~\\miniconda3\\envs\\misc\\lib\\site-packages\\gpytorch\\distributions\\multivariate_normal.py\u001b[0m in \u001b[0;36mlog_prob\u001b[1;34m(self, value)\u001b[0m\n\u001b[0;32m    151\u001b[0m \u001b[1;33m\u001b[0m\u001b[0m\n\u001b[0;32m    152\u001b[0m         \u001b[0mmean\u001b[0m\u001b[1;33m,\u001b[0m \u001b[0mcovar\u001b[0m \u001b[1;33m=\u001b[0m \u001b[0mself\u001b[0m\u001b[1;33m.\u001b[0m\u001b[0mloc\u001b[0m\u001b[1;33m,\u001b[0m \u001b[0mself\u001b[0m\u001b[1;33m.\u001b[0m\u001b[0mlazy_covariance_matrix\u001b[0m\u001b[1;33m\u001b[0m\u001b[1;33m\u001b[0m\u001b[0m\n\u001b[1;32m--> 153\u001b[1;33m         \u001b[0mdiff\u001b[0m \u001b[1;33m=\u001b[0m \u001b[0mvalue\u001b[0m \u001b[1;33m-\u001b[0m \u001b[0mmean\u001b[0m\u001b[1;33m\u001b[0m\u001b[1;33m\u001b[0m\u001b[0m\n\u001b[0m\u001b[0;32m    154\u001b[0m \u001b[1;33m\u001b[0m\u001b[0m\n\u001b[0;32m    155\u001b[0m         \u001b[1;31m# Repeat the covar to match the batch shape of diff\u001b[0m\u001b[1;33m\u001b[0m\u001b[1;33m\u001b[0m\u001b[1;33m\u001b[0m\u001b[0m\n",
      "\u001b[1;31mRuntimeError\u001b[0m: The size of tensor a (2) must match the size of tensor b (10000) at non-singleton dimension 1"
     ]
    },
    {
     "data": {
      "text/plain": [
       "<Figure size 864x288 with 0 Axes>"
      ]
     },
     "metadata": {},
     "output_type": "display_data"
    }
   ],
   "source": [
    "plt.figure(figsize=(12,4))\n",
    "with torch.no_grad():\n",
    "    vis_variational = v_dist.log_prob(vis_x)\n",
    "plt.subplot(121)\n",
    "plt.imshow(vis_log_like.reshape(nx, ny).t()+vis_log_prior.reshape(nx, ny).t(), origin='lower',\n",
    "            vmax=0, vmin=-20, extent=extent)\n",
    "plt.colorbar()\n",
    "plt.title(\"Unnormalised log-posterior\")\n",
    "\n",
    "plt.subplot(122)\n",
    "plt.imshow(vis_variational.reshape(nx, ny).t(), origin='lower', vmax=0, vmin=-20,\n",
    "            extent=extent)\n",
    "plt.colorbar()\n",
    "plt.title(\"Variational approximation\")"
   ]
  },
  {
   "cell_type": "code",
   "execution_count": null,
   "metadata": {},
   "outputs": [],
   "source": []
  }
 ],
 "metadata": {
  "kernelspec": {
   "display_name": "Python 3",
   "language": "python",
   "name": "python3"
  },
  "language_info": {
   "codemirror_mode": {
    "name": "ipython",
    "version": 3
   },
   "file_extension": ".py",
   "mimetype": "text/x-python",
   "name": "python",
   "nbconvert_exporter": "python",
   "pygments_lexer": "ipython3",
   "version": "3.7.9"
  }
 },
 "nbformat": 4,
 "nbformat_minor": 1
}